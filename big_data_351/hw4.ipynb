{
 "cells": [
  {
   "cell_type": "markdown",
   "metadata": {},
   "source": [
    "# Question 1"
   ]
  },
  {
   "cell_type": "code",
   "execution_count": 15,
   "metadata": {},
   "outputs": [
    {
     "data": {
      "image/png": "[encoded data removed]",
      "text/plain": [
       "<Figure size 1000x700 with 1 Axes>"
      ]
     },
     "metadata": {},
     "output_type": "display_data"
    }
   ],
   "source": [
    "from scipy.cluster.hierarchy import dendrogram, linkage\n",
    "import matplotlib.pyplot as plt\n",
    "import numpy as np\n",
    "\n",
    "data_points = np.array([[1], [4], [9], [16], [25], [36], [49], [64], [81]])\n",
    "\n",
    "Z = linkage(data_points, method='centroid')\n",
    "\n",
    "plt.figure(figsize=(10, 7))\n",
    "dendrogram(Z, labels=[str(x[0]) for x in data_points])\n",
    "plt.title(\"Hierarchical Clustering Dendrogram\")\n",
    "plt.xlabel(\"Data Points\")\n",
    "plt.ylabel(\"Distance\")\n",
    "plt.show()\n"
   ]
  },
  {
   "cell_type": "markdown",
   "metadata": {},
   "source": [
    "# Question 2"
   ]
  },
  {
   "cell_type": "code",
   "execution_count": 8,
   "metadata": {},
   "outputs": [
    {
     "data": {
      "text/plain": [
       "(array([3, 4]), array([12,  6]), array([ 7, 10]))"
      ]
     },
     "execution_count": 8,
     "metadata": {},
     "output_type": "execute_result"
    }
   ],
   "source": [
    "from scipy.spatial.distance import euclidean\n",
    "\n",
    "points = np.array([\n",
    "    [4, 10], [7, 10], [9, 3], [11, 4], [12, 6], [2, 2], [5, 2], [3, 4], [4, 8], [6, 8], [10, 5], [12, 3]\n",
    "])\n",
    "\n",
    "first_point = np.array([3, 4])\n",
    "\n",
    "def find_farthest_point(points, reference_point):\n",
    "    max_distance = 0\n",
    "    farthest_point = None\n",
    "    for point in points:\n",
    "        distance = euclidean(point, reference_point)\n",
    "        if distance > max_distance:\n",
    "            max_distance = distance\n",
    "            farthest_point = point\n",
    "    return farthest_point\n",
    "\n",
    "second_point = find_farthest_point(points, first_point)\n",
    "\n",
    "third_point = None\n",
    "max_distance_to_closest = 0\n",
    "for point in points:\n",
    "    distance_to_first = euclidean(point, first_point)\n",
    "    distance_to_second = euclidean(point, second_point)\n",
    "    distance_to_closest = min(distance_to_first, distance_to_second)\n",
    "    \n",
    "    if distance_to_closest > max_distance_to_closest:\n",
    "        max_distance_to_closest = distance_to_closest\n",
    "        third_point = point\n",
    "\n",
    "first_point, second_point, third_point\n",
    "\n"
   ]
  },
  {
   "cell_type": "markdown",
   "metadata": {},
   "source": [
    "# Question 3"
   ]
  },
  {
   "cell_type": "code",
   "execution_count": 12,
   "metadata": {},
   "outputs": [
    {
     "data": {
      "text/plain": [
       "1.374772708486752"
      ]
     },
     "execution_count": 12,
     "metadata": {},
     "output_type": "execute_result"
    }
   ],
   "source": [
    "from scipy.spatial.distance import mahalanobis\n",
    "\n",
    "std_devs = [2, 3, 5]\n",
    "\n",
    "inverse_covariance_matrix = np.diag([1/(std_dev**2) for std_dev in std_devs])\n",
    "\n",
    "origin = [0, 0, 0]\n",
    "point = [1, -3, 4]\n",
    "\n",
    "mahalanobis_distance = mahalanobis(origin, point, inverse_covariance_matrix)\n",
    "mahalanobis_distance\n",
    "\n"
   ]
  },
  {
   "cell_type": "markdown",
   "metadata": {},
   "source": [
    "# Question 4"
   ]
  },
  {
   "cell_type": "markdown",
   "metadata": {},
   "source": [
    "\n",
    "a) Classifying the Rest of the Points in the Initial Load\n",
    "With clusters initially centered at Point 1 (1.5, 2.5), Point 3 (8, 10), and Point 5 (5.5, 4.5), we classify the other points as follows:\n",
    "\n",
    "Point 2 (2.5, 1.5) would likely be classified into the cluster with Point 1, as it is closer to this point.\n",
    "Point 4 (9, 8) would likely be classified into the cluster with Point 3, as it is closer to this point. \n",
    "\n",
    "b) Evolution of Clusters with Next Points\n",
    "\n",
    "Point 6 (1, 1) would be classified into the cluster with Point 1.\n",
    "Point 7 (9, 9) would be classified into the cluster with Point 3.\n",
    "Point 8 (6, 5) would be classified into the cluster with Point 5.\n",
    "After these classifications, the BFR algorithm would update the cluster centers based on the newly assigned points.\n",
    "\n",
    "c) Sketching the Clusters and Summarizing Statistics\n",
    "After processing points 1-8, the clusters would include the following points:\n",
    "\n",
    "Cluster 1 (Centered at Point 1): Points 1, 2, 6\n",
    "Cluster 2 (Centered at Point 3): Points 3, 4, 7\n",
    "Cluster 3 (Centered at Point 5): Points 5, 8\n",
    "\n",
    "Please see the next cell for the code:\n",
    "\n",
    "\n",
    "d) Classification of Points A, B, C by the BFR Algorithm\n",
    "After processing 60% of the data:\n",
    "\n",
    "Point A (10, 10) would likely be classified into Cluster 2, which is centered around (8, 8).\n",
    "Point B (2, 3) would likely be classified into Cluster 1, which is centered around (2, 2).\n",
    "Point C (5, 6) could be classified into either Cluster 3 or possibly Cluster 1 or 2, depending on the updated cluster centers after processing 60% of the data. \n",
    "\n",
    "\n",
    "e) Final Clusters After Processing All Data Points\n",
    "The final clusters are expected to form around the original centers provided by the dataset: (2,2), (8,8), and (5,5). Given the normal distribution of the data points around these centers with specified standard deviations, the clusters should approximate normal distributions centered at these points.\n",
    "\n",
    "Cluster 1: Centered around (2,2), incorporating points closer to this center.\n",
    "Cluster 2: Centered around (8,8), incorporating points closer to this center.\n",
    "Cluster 3: Centered around (5,5), incorporating points closer to this center.\n",
    "The clusters should be roughly circular, with the spread determined by the respective standard deviations: 1 for the cluster around (2,2), 2 for the cluster around (8,8), and 1.5 for the cluster around (5,5). Over time, as more points are processed, the BFR algorithm will refine these clusters, and their centers may shift slightly based on the actual data points.\n",
    "\n",
    "\n",
    "\n",
    "\n"
   ]
  },
  {
   "cell_type": "code",
   "execution_count": 13,
   "metadata": {},
   "outputs": [
    {
     "data": {
      "text/plain": [
       "({'Cluster 1': ['Point 2', 'Point 6', 'Point 1'],\n",
       "  'Cluster 2': ['Point 4', 'Point 7', 'Point 3'],\n",
       "  'Cluster 3': ['Point 8', 'Point 5']},\n",
       " {'Cluster 1': {'N': 3,\n",
       "   'SUM': array([3.5, 2.5]),\n",
       "   'SUMSQ': array([7.25, 3.25])},\n",
       "  'Cluster 2': {'N': 3, 'SUM': array([18, 17]), 'SUMSQ': array([162, 145])},\n",
       "  'Cluster 3': {'N': 2, 'SUM': array([6, 5]), 'SUMSQ': array([36, 25])}})"
      ]
     },
     "execution_count": 13,
     "metadata": {},
     "output_type": "execute_result"
    }
   ],
   "source": [
    "cluster_centers = {\n",
    "    'Cluster 1': np.array([1.5, 2.5]),\n",
    "    'Cluster 2': np.array([8, 10]),\n",
    "    'Cluster 3': np.array([5.5, 4.5])\n",
    "}\n",
    "\n",
    "points = {\n",
    "    'Point 2': np.array([2.5, 1.5]),\n",
    "    'Point 4': np.array([9, 8]),\n",
    "    'Point 6': np.array([1, 1]),\n",
    "    'Point 7': np.array([9, 9]),\n",
    "    'Point 8': np.array([6, 5])\n",
    "}\n",
    "\n",
    "def classify_points_to_clusters(points, cluster_centers):\n",
    "    clusters = {'Cluster 1': [], 'Cluster 2': [], 'Cluster 3': []}\n",
    "\n",
    "    for point_name, point in points.items():\n",
    "        nearest_cluster = min(cluster_centers, key=lambda k: np.linalg.norm(point - cluster_centers[k]))\n",
    "        clusters[nearest_cluster].append(point_name)\n",
    "\n",
    "    return clusters\n",
    "\n",
    "clusters = classify_points_to_clusters(points, cluster_centers)\n",
    "\n",
    "clusters['Cluster 1'].append('Point 1')\n",
    "clusters['Cluster 2'].append('Point 3')\n",
    "clusters['Cluster 3'].append('Point 5')\n",
    "\n",
    "def calculate_cluster_statistics(clusters, points):\n",
    "    stats = {}\n",
    "\n",
    "    for cluster, point_names in clusters.items():\n",
    "        n = len(point_names)\n",
    "        sum_points = np.sum([points[pn] for pn in point_names if pn in points], axis=0)\n",
    "        sumsqr_points = np.sum([np.square(points[pn]) for pn in point_names if pn in points], axis=0)\n",
    "\n",
    "        stats[cluster] = {\n",
    "            'N': n,\n",
    "            'SUM': sum_points,\n",
    "            'SUMSQ': sumsqr_points\n",
    "        }\n",
    "        \n",
    "    return stats\n",
    "\n",
    "cluster_stats = calculate_cluster_statistics(clusters, points)\n",
    "\n",
    "clusters, cluster_stats\n",
    "\n"
   ]
  },
  {
   "cell_type": "markdown",
   "metadata": {},
   "source": [
    "# Question 5"
   ]
  },
  {
   "cell_type": "markdown",
   "metadata": {},
   "source": [
    "Break-Even Point: The break-even point between renting and buying is 10 days ($10 to buy vs. $1/day for renting).\n",
    "\n",
    "\n",
    "\n"
   ]
  },
  {
   "cell_type": "markdown",
   "metadata": {},
   "source": [
    "# Question 6"
   ]
  },
  {
   "cell_type": "markdown",
   "metadata": {},
   "source": [
    "a) Ad Allocation for Given Search Queries Using GBA\n",
    "The Generalized Balance Algorithm (GBA) assigns ads based on the largest unspent budget of interested advertisers. Let's allocate ads for the queries:\n",
    "\n",
    "Query 1 (Relevant to A and B): Company C has the largest budget ($130), but is not interested. Between A and B, B has the larger budget ($120). Assign to B. Budget left: A=$100, B=$119, C=$130. \\\n",
    "Query 2 (Relevant to B and C): C has the largest budget ($130). Assign to C. Budget left: A=$100, B=$119, C=$129. \\\n",
    "Query 3 (Relevant to A and C): C still has the largest budget ($129). Assign to C. Budget left: A=$100, B=$119, C=$128. \\\n",
    "Query 4 (Relevant to B): Only B is interested. Assign to B. Budget left: A=$100, B=$118, C=$128. \\\n",
    "Query 5 (Relevant to C): Only C is interested. Assign to C. Budget left: A=$100, B=$118, C=$127. \\\n",
    "\n",
    "b) Remaining Budget for Each Advertiser \n",
    "Company A: $100 \\\n",
    "Company B: $118 \\\n",
    "Company C: $127 \n",
    "\n",
    "c) Different Order of Search Queries\n",
    "The order of search queries can indeed affect the ad allocation. Let's consider a different order:\n",
    "\n",
    "Query 3 (A and C) \\\n",
    "Query 1 (A and B) \\\n",
    "Query 2 (B and C) \\\n",
    "Query 4 (B) \\\n",
    "Query 5 (C) \\ \n",
    "Allocations in this order: \n",
    "\n",
    "Query 3 to C, Query 1 to A, Query 2 to C, Query 4 to B, Query 5 to C. \\\n",
    "Resulting budgets: A = $99, B = $118, C = $126. \\\n",
    "This order changes the allocation and the remaining budgets, highlighting the impact of query order on ad allocation in GBA.\n",
    "\n",
    "d) Allocation and Budgets with $2 per Click\n",
    "If each click costs $2:\n",
    "\n",
    "Query 1: Assign to B. Budgets: A=$100, B=$118, C=$130. \\\n",
    "Querry 2: Assign to C. Budgets: A=$100, B=$118, C=$128. \\\n",
    "Query 3: Assign to C. Budgets: A=$100, B=$118, C=$126. \\\n",
    "Query 4: Assign to B. Budgets: A=$100, B=$116, C=$126. \\\n",
    "Query 5: Assign to C. Budgets: A=$100, B=$116, C=$124. \\\n",
    "e) Potential Limitations or Drawbacks\n",
    "Larger budgets may dominate ad placements, reducing exposure for smaller-budget companies. High-budget advertisers might rapidly consume their budget on less relevant queries. The algorithm doesn't consider the return on investment for advertisers, which might not be optimal for their specific goals."
   ]
  },
  {
   "cell_type": "markdown",
   "metadata": {},
   "source": [
    "# Question 7 "
   ]
  },
  {
   "cell_type": "code",
   "execution_count": 16,
   "metadata": {},
   "outputs": [
    {
     "data": {
      "text/plain": [
       "({'C1-C2': 0.13232019670460035,\n",
       "  'C1-C3': 0.1748578990699256,\n",
       "  'C2-C3': 0.28240076879579834},\n",
       " {'C1-C2': 7.7433676747857705,\n",
       "  'C1-C3': 7.451623812439634,\n",
       "  'C2-C3': 14.262328442796376},\n",
       " {'C1-C2': 6.071648921036559,\n",
       "  'C1-C3': 5.368226522288894,\n",
       "  'C2-C3': 10.812325507058954})"
      ]
     },
     "execution_count": 16,
     "metadata": {},
     "output_type": "execute_result"
    }
   ],
   "source": [
    "C1 = np.array([3.06, 500, 6])\n",
    "C2 = np.array([2.68, 320, 4])\n",
    "C3 = np.array([2.92, 640, 6])\n",
    "\n",
    "def angle_between_vectors(v1, v2, alpha, beta):\n",
    "    v1_scaled = np.array([v1[0], v1[1] * alpha, v1[2] * beta])\n",
    "    v2_scaled = np.array([v2[0], v2[1] * alpha, v2[2] * beta])\n",
    "    \n",
    "    dot_product = np.dot(v1_scaled, v2_scaled)\n",
    "    magnitude_v1 = np.linalg.norm(v1_scaled)\n",
    "    magnitude_v2 = np.linalg.norm(v2_scaled)\n",
    "    \n",
    "    cos_theta = dot_product / (magnitude_v1 * magnitude_v2)\n",
    "    \n",
    "    theta = np.arccos(cos_theta) * (180 / np.pi)\n",
    "    return theta\n",
    "\n",
    "angles_alpha_beta_1 = {\n",
    "    \"C1-C2\": angle_between_vectors(C1, C2, 1, 1),\n",
    "    \"C1-C3\": angle_between_vectors(C1, C3, 1, 1),\n",
    "    \"C2-C3\": angle_between_vectors(C2, C3, 1, 1)\n",
    "}\n",
    "\n",
    "angles_alpha_beta_2 = {\n",
    "    \"C1-C2\": angle_between_vectors(C1, C2, 0.01, 0.5),\n",
    "    \"C1-C3\": angle_between_vectors(C1, C3, 0.01, 0.5),\n",
    "    \"C2-C3\": angle_between_vectors(C2, C3, 0.01, 0.5)\n",
    "}\n",
    "\n",
    "avg_processor_speed = np.mean([3.06, 2.68, 2.92])\n",
    "avg_disk_size = np.mean([500, 320, 640])\n",
    "avg_main_memory = np.mean([6, 4, 6])\n",
    "\n",
    "alpha_inverse = 1 / avg_disk_size\n",
    "beta_inverse = 1 / avg_main_memory\n",
    "\n",
    "angles_inverse = {\n",
    "    \"C1-C2\": angle_between_vectors(C1, C2, alpha_inverse, beta_inverse),\n",
    "    \"C1-C3\": angle_between_vectors(C1, C3, alpha_inverse, beta_inverse),\n",
    "    \"C2-C3\": angle_between_vectors(C2, C3, alpha_inverse, beta_inverse)\n",
    "}\n",
    "\n",
    "angles_alpha_beta_1, angles_alpha_beta_2, angles_inverse\n",
    "\n"
   ]
  },
  {
   "cell_type": "markdown",
   "metadata": {},
   "source": [
    "# Question 8"
   ]
  },
  {
   "cell_type": "code",
   "execution_count": 17,
   "metadata": {},
   "outputs": [
    {
     "data": {
      "text/plain": [
       "(2.9562746964232876, 3.1349101013256924)"
      ]
     },
     "execution_count": 17,
     "metadata": {},
     "output_type": "execute_result"
    }
   ],
   "source": [
    "from sklearn.metrics.pairwise import cosine_similarity\n",
    "\n",
    "\n",
    "ratings_nan_corrected = np.array([\n",
    "    [4, np.nan, 3, 5, 1],\n",
    "    [5, 1, np.nan, 2, 4],\n",
    "    [3, 5, 2, np.nan, 3],\n",
    "    [4, 2, 3, 4, np.nan],\n",
    "    [np.nan, 4, 5, 1, 3]\n",
    "])\n",
    "\n",
    "def predict_user_based_corrected(ratings, target_user, target_movie):\n",
    "    similarities = []\n",
    "    weighted_sum = 0\n",
    "    sum_of_similarities = 0\n",
    "\n",
    "    for other_user, other_ratings in enumerate(ratings):\n",
    "        if other_user != target_user:\n",
    "            common_movies = ~np.isnan(ratings[target_user]) & ~np.isnan(other_ratings)\n",
    "            if np.any(common_movies):\n",
    "                similarity = cosine_similarity([ratings[target_user][common_movies]], [other_ratings[common_movies]])[0][0]\n",
    "                similarities.append((similarity, other_ratings[target_movie]))\n",
    "    \n",
    "    for similarity, rating in similarities:\n",
    "        if not np.isnan(rating):\n",
    "            weighted_sum += similarity * rating\n",
    "            sum_of_similarities += similarity\n",
    "    \n",
    "    return weighted_sum / sum_of_similarities if sum_of_similarities else None\n",
    "\n",
    "def predict_item_based_corrected(ratings, target_user, target_movie):\n",
    "    similarities = []\n",
    "    weighted_sum = 0\n",
    "    sum_of_similarities = 0\n",
    "\n",
    "    for other_movie in range(ratings.shape[1]):\n",
    "        if other_movie != target_movie:\n",
    "            # Only consider users who have rated both movies\n",
    "            common_users = ~np.isnan(ratings[:, target_movie]) & ~np.isnan(ratings[:, other_movie])\n",
    "            if np.any(common_users):\n",
    "                similarity = cosine_similarity([ratings[:, target_movie][common_users]], [ratings[:, other_movie][common_users]])[0][0]\n",
    "                similarities.append((similarity, ratings[target_user, other_movie]))\n",
    "    \n",
    "    for similarity, rating in similarities:\n",
    "        if not np.isnan(rating):\n",
    "            weighted_sum += similarity * rating\n",
    "            sum_of_similarities += similarity\n",
    "    \n",
    "    return weighted_sum / sum_of_similarities if sum_of_similarities else None\n",
    "\n",
    "user_based_prediction_corrected = predict_user_based_corrected(ratings_nan_corrected, 0, 1)  # User A's rating for Movie 2 (User-Based)\n",
    "item_based_prediction_corrected = predict_item_based_corrected(ratings_nan_corrected, 0, 1)  # User A's rating for Movie 2 (Item-Based)\n",
    "\n",
    "user_based_prediction_corrected, item_based_prediction_corrected\n",
    "\n"
   ]
  },
  {
   "cell_type": "markdown",
   "metadata": {},
   "source": [
    "# Question 9"
   ]
  },
  {
   "cell_type": "markdown",
   "metadata": {},
   "source": [
    "\n",
    "a) Greedy Algorithm on Query Sequence xxyyzz \\\n",
    "The greedy algorithm would assign ads to queries as they come, prioritizing the highest bidder for each query until their budget is exhausted. \\\n",
    "sequence xxyyzz:\n",
    "\n",
    "First 'x' Query: A, B, and C bid on this query. The greedy algorithm would assign it to any of these advertisers, A. A's budget is 1. \\\n",
    "Second 'x' Query: A (with a budget of 1), B, and C are still in contention. Assign it to any, B. B's budget is 1. \\\n",
    "First 'y' Query: B and C can bid on this. Assign it to any, B again. B's budget is exhausted. \\\n",
    "Second 'y' Query: Only C can bid. Assign it to C. Now C's budget is 1. \\\n",
    "First 'z' Query: Only C can bid. Assign it to C. Now C's budget is exhausted. \\\n",
    "Second 'z' Query: No advertiser has a budget left, so it remains unassigned. \\\n",
    "The greedy algorithm assigns 4 out of the 6 queries, fulfilling the condition that it will assign at least 4 of the 6 queries. \\\n",
    "\n",
    "b) Greedy Algorithm Assigning Half the Queries of the Optimal Offline Algorithm \\\n",
    "To find a sequence where the greedy algorithm assigns as few as half the queries that the optimal offline algorithm would, we should arrange the sequence in a way that quickly exhausts the budget of the bidders who can bid on multiple queries.\n",
    "\n",
    "Let's consider the sequence: xyyxzz. \n",
    "\n",
    "First 'x' Query: Assign to any of A, B, C. Let's pick A. A's budget becomes 1. \\\n",
    "First 'y' Query: Assign to either B or C. Let's pick, B. B's budget becomes 1. \\\n",
    "Second 'y' Query: Assign to the remaining bidder for 'y', either B or C. If it's B, B's budget is exhausted. \\\n",
    "Second 'x' Query: Now only A (with a budget of 1) and C can bid. Assign to any. Say, C. C's budget becomes 1. \\\n",
    "First 'z' Query: Only C can bid, but C's budget is now exhausted. \\\n",
    "Second 'z' Query: No budget left for any bidder. \\\n",
    "Here, the greedy algorithm only assigns 3 out of 6 queries, which is half of what the optimal offline algorithm would assign. This sequence demonstrates a case where the greedy algorithm can only assign half the queries compared to the optimal offline algorithm"
   ]
  }
 ],
 "metadata": {
  "kernelspec": {
   "display_name": "Python 3",
   "language": "python",
   "name": "python3"
  },
  "language_info": {
   "codemirror_mode": {
    "name": "ipython",
    "version": 3
   },
   "file_extension": ".py",
   "mimetype": "text/x-python",
   "name": "python",
   "nbconvert_exporter": "python",
   "pygments_lexer": "ipython3",
   "version": "3.11.1"
  }
 },
 "nbformat": 4,
 "nbformat_minor": 2
}
