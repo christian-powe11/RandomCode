{
 "cells": [
  {
   "cell_type": "code",
   "execution_count": 1,
   "metadata": {},
   "outputs": [
    {
     "data": {
      "text/plain": [
       "(0.42264973081037416, 0.7113248654051871, 1.0)"
      ]
     },
     "execution_count": 1,
     "metadata": {},
     "output_type": "execute_result"
    }
   ],
   "source": [
    "from scipy.spatial.distance import cosine\n",
    "from scipy.spatial.distance import jaccard\n",
    "from sklearn.metrics import jaccard_score\n",
    "\n",
    "# Vectors\n",
    "A = [4, 5, 0, 5, 1, 0, 3, 2]\n",
    "B = [0, 3, 4, 3, 1, 2, 1, 0]\n",
    "C = [2, 0, 1, 2, 0, 4, 5, 3]\n",
    "\n",
    "A = [1, 1, 0, 1, 1, 0, 1, 1]\n",
    "B = [0, 1, 1, 1, 1, 1, 1, 0]\n",
    "C = [1, 0, 1, 1, 0, 1, 1, 1]\n",
    "\n",
    "A = [1,1,0,1,0,0,1,0]\n",
    "B = [0,1,1,1,0,0,0,0]\n",
    "C = [0,0,0,0,0,1,1,1]\n",
    "\n",
    "# A = [.66,1.66,0,1.66,-2.33,0,-.33,-1.33]\n",
    "# B = [0,.66,1.66,.66,-1.33,-.33,-.33,0]\n",
    "# C = [-.83,0,-1.83,-.83,0,1.16,2.16,.16]\n",
    "\n",
    "# Compute cosine distances\n",
    "distance_AB = cosine(A, B)\n",
    "distance_AC = cosine(A, C)\n",
    "distance_BC = cosine(B, C)\n",
    "\n",
    "\n",
    "jdistance_AB = jaccard(A, B)\n",
    "jdistance_AC = jaccard(A, C)\n",
    "jdistance_BC = jaccard(B, C)\n",
    "\n",
    "\n",
    "jsdistance_AB = jaccard_score(A, B)\n",
    "jsdistance_AC = jaccard_score(A, C)\n",
    "jsdistance_BC = jaccard_score(B, C)\n",
    "\n",
    "\n",
    "distance_AB, distance_AC, distance_BC\n",
    "\n",
    "# jdistance_AB, jdistance_AC, jdistance_BC\n",
    "\n",
    "# jsdistance_AB, jsdistance_AC, jsdistance_BC\n",
    "\n",
    "\n"
   ]
  },
  {
   "cell_type": "code",
   "execution_count": 2,
   "metadata": {},
   "outputs": [
    {
     "name": "stdout",
     "output_type": "stream",
     "text": [
      "[ 0.66666667  1.66666667  0.          1.66666667 -2.33333333  0.\n",
      " -0.33333333 -1.33333333]\n",
      "[ 0.          0.66666667  1.66666667  0.66666667 -1.33333333 -0.33333333\n",
      " -1.33333333  0.        ]\n",
      "[-0.83333333  0.         -1.83333333 -0.83333333  0.          1.16666667\n",
      "  2.16666667  0.16666667]\n",
      "Cosine Similarity AB: 0.5843065474681431\n",
      "Cosine Similarity AC: -0.24037008503093263\n",
      "Cosine Similarity BC: -0.7728895117403245\n",
      "Cosine Distance AB: 0.41569345253185686\n",
      "Cosine Distance AC: 1.2403700850309327\n",
      "Cosine Distance BC: 1.7728895117403245\n"
     ]
    }
   ],
   "source": [
    "import numpy as np\n",
    "from numpy.linalg import norm\n",
    "import math \n",
    "\n",
    "# A = [4, 5, 0, 5, 1, 0, 3, 2]\n",
    "# B = [0, 3, 4, 3, 1, 2, 1, 0]\n",
    "# C = [2, 0, 1, 2, 0, 4, 5, 3]\n",
    "\n",
    "# A = [1, 1, 0, 1, 1, 0, 1, 1]\n",
    "# B = [0, 1, 1, 1, 1, 1, 1, 0]\n",
    "# C = [1, 0, 1, 1, 0, 1, 1, 1]\n",
    "\n",
    "\n",
    "\n",
    "# A = np.array(A)\n",
    "# B = np.array(B)\n",
    "# C = np.array(C)\n",
    "\n",
    "A = [4, 5, 0, 5, 1, 0, 3, 2]\n",
    "B = [0, 3, 4, 3, 1, 2, 1, 0]\n",
    "C = [2, 0, 1, 2, 0, 4, 5, 3]\n",
    "\n",
    "A = [2/3,5/3,0,5/3,-7/3,0,-1/3,-4/3]\n",
    "B = [0,2/3,5/3,2/3,-4/3,-1/3,-4/3,0]\n",
    "C = [-5/6,0,-11/6,-5/6,0,7/6,13/6,1/6]\n",
    "\n",
    "# A = [1, 1, 0, 1, 1, 0, 1, 1]\n",
    "# B = [0, 1, 1, 1, 1, 1, 1, 0]\n",
    "# C = [1, 0, 1, 1, 0, 1, 1, 1]\n",
    "\n",
    "# A = [1,1,0,1,0,0,1,0]\n",
    "# B = [0,1,1,1,0,0,0,0]\n",
    "# C = [0,0,0,0,0,1,1,1]\n",
    "\n",
    "\n",
    "A = np.array(A)\n",
    "B = np.array(B)\n",
    "C = np.array(C)\n",
    "\n",
    "print(A)\n",
    "print(B)\n",
    "print(C)\n",
    "\n",
    "num = np.dot(A,B)\n",
    "dem1 = norm(A)\n",
    "dem2 = norm(B)\n",
    "cosineAB = np.dot(A,B)/(norm(A)*norm(B))\n",
    "cosineAC = np.dot(A,C)/(norm(A)*norm(C))\n",
    "cosineBC = np.dot(B,C)/(norm(B)*norm(C))\n",
    "\n",
    "\n",
    "def cosine_distance(vec1, vec2):\n",
    "    # Calculate the dot product of the vectors\n",
    "    dot_product = np.dot(vec1, vec2)\n",
    "    \n",
    "    # Compute the magnitude (norm) of each vector\n",
    "    norm_vec1 = np.linalg.norm(vec1)\n",
    "    norm_vec2 = np.linalg.norm(vec2)\n",
    "    \n",
    "    # Calculate the cosine similarity\n",
    "    cosine_similarity = dot_product / (norm_vec1 * norm_vec2)\n",
    "    \n",
    "    # Calculate the cosine distance\n",
    "    cosine_distance = 1 - cosine_similarity\n",
    "    \n",
    "    return cosine_distance\n",
    "\n",
    "# Example usage\n",
    "\n",
    "distanceAB = cosine_distance(A, B)\n",
    "distanceAC = cosine_distance(A, C)\n",
    "distanceBC = cosine_distance(B,C)\n",
    "\n",
    "print(\"Cosine Similarity AB:\", cosineAB)\n",
    "print(\"Cosine Similarity AC:\", cosineAC)\n",
    "print(\"Cosine Similarity BC:\", cosineBC)\n",
    "\n",
    "print(\"Cosine Distance AB:\", distanceAB)\n",
    "print(\"Cosine Distance AC:\", distanceAC)\n",
    "print(\"Cosine Distance BC:\", distanceBC)\n",
    "\n",
    "\n",
    "\n",
    "\n",
    "\n"
   ]
  },
  {
   "cell_type": "code",
   "execution_count": 3,
   "metadata": {},
   "outputs": [
    {
     "name": "stdout",
     "output_type": "stream",
     "text": [
      "[ 0.66666667  1.66666667  0.          1.66666667 -2.33333333  0.\n",
      " -0.33333333 -1.33333333]\n",
      "[ 0.          0.66666667  1.66666667  0.66666667 -1.33333333 -0.33333333\n",
      " -1.33333333  0.        ]\n",
      "[-0.83333333  0.         -1.83333333 -0.83333333  0.          1.16666667\n",
      "  2.16666667  0.16666667]\n"
     ]
    },
    {
     "data": {
      "text/plain": [
       "(0.0, 3.700743415417188e-17, 2.312964634635743e-17)"
      ]
     },
     "execution_count": 3,
     "metadata": {},
     "output_type": "execute_result"
    }
   ],
   "source": [
    "import numpy as np\n",
    "\n",
    "A = [4, 5, 0, 5, 1, 0, 3, 2]\n",
    "B = [0, 3, 4, 3, 1, 2, 1, 0]\n",
    "C = [2, 0, 1, 2, 0, 4, 5, 3]\n",
    "\n",
    "A = [2/3,5/3,0,5/3,-7/3,0,-1/3,-4/3]\n",
    "B = [0,2/3,5/3,2/3,-4/3,-1/3,-4/3,0]\n",
    "C = [-5/6,0,-11/6,-5/6,0,7/6,13/6,1/6]\n",
    "\n",
    "A = np.array(A)\n",
    "B = np.array(B)\n",
    "C = np.array(C)\n",
    "\n",
    "print(A)\n",
    "print(B)\n",
    "print(C)\n",
    "\n",
    "\n",
    "def average_excluding_zeroes(arr):\n",
    "    \"\"\"\n",
    "    Calculate the average of a numpy array, excluding zeroes.\n",
    "    \"\"\"\n",
    "    # Filter out the zeros\n",
    "    non_zero_elements = arr[arr != 0]\n",
    "\n",
    "    # Calculate the average, handling the case where the array might be empty after removing zeros\n",
    "    if non_zero_elements.size > 0:\n",
    "        avg = np.mean(non_zero_elements)\n",
    "    else:\n",
    "        avg = 0  # Default to 0 if all elements are zero or the array is empty\n",
    "\n",
    "    return avg\n",
    "\n",
    "# Example array\n",
    "\n",
    "# Calculate the average excluding zeroes\n",
    "average_a = average_excluding_zeroes(A)\n",
    "average_b = average_excluding_zeroes(B)\n",
    "average_c = average_excluding_zeroes(C)\n",
    "\n",
    "average_a, average_b, average_c \n",
    "\n",
    "\n"
   ]
  },
  {
   "cell_type": "code",
   "execution_count": 4,
   "metadata": {},
   "outputs": [
    {
     "name": "stdout",
     "output_type": "stream",
     "text": [
      "[2 0 1 2 0 4 5 3]\n",
      "2.312964634635743e-17\n",
      "[ True False  True  True False  True  True  True]\n",
      "[2. 1. 2. 4. 5. 3.]\n",
      "[0 0 0 0 0 0 0 0]\n",
      "[2. 1. 2. 4. 5. 3.]\n"
     ]
    }
   ],
   "source": [
    "import numpy as np\n",
    "\n",
    "\n",
    "A = [4, 5, 0, 5, 1, 0, 3, 2]\n",
    "B = [0, 3, 4, 3, 1, 2, 1, 0]\n",
    "C = [2, 0, 1, 2, 0, 4, 5, 3]\n",
    "\n",
    "\n",
    "\n",
    "A = np.array(A)\n",
    "B = np.array(B)\n",
    "C = np.array(C)\n",
    "\n",
    "print(C)\n",
    "print(average_c)\n",
    "\n",
    "def subtract_from_non_zero(arr, num):\n",
    "    \"\"\"\n",
    "    Subtract a float number from each element of a numpy array, but only if the element is not zero.\n",
    "    \"\"\"\n",
    "    # Ensure num is a float\n",
    "    num = float(num)\n",
    "\n",
    "    # Create a mask for non-zero elements\n",
    "    non_zero_mask = arr != 0\n",
    "\n",
    "    print(non_zero_mask)\n",
    "    print(arr[non_zero_mask] - num)\n",
    "    # Subtract the number from non-zero elements only\n",
    "    new = np.full(8,0)\n",
    "    print(new)\n",
    "    new = arr[non_zero_mask] - num\n",
    "    \n",
    "\n",
    "    return new\n",
    "# Example array\n",
    "\n",
    "\n",
    "# Subtracting 2 from each non-zero element\n",
    "# Subtracting 2 from each non-zero element\n",
    "d= subtract_from_non_zero(C, average_c)\n",
    "# e= subtract_from_non_zero(B, average_b)\n",
    "# f= subtract_from_non_zero(C, average_c)\n",
    "print(d)\n",
    "# print(e)\n",
    "# print(f)\n",
    "\n"
   ]
  },
  {
   "cell_type": "code",
   "execution_count": 5,
   "metadata": {},
   "outputs": [
    {
     "name": "stdout",
     "output_type": "stream",
     "text": [
      "Cosine Similarity: 0.3798685881987931\n",
      "Cosine Similarity: 0.3220305943597653\n"
     ]
    }
   ],
   "source": [
    "import numpy as np\n",
    "from numpy.linalg import norm\n",
    "\n",
    "A = [4,0,0,5,1,0,0]\n",
    "B = [5,5,4,0,0,0,0]\n",
    "C = [0,0,0,2,4,5,0]\n",
    "\n",
    "A = np.array(A)\n",
    "B = np.array(B)\n",
    "C = np.array(C)\n",
    "\n",
    "cosineAB = np.dot(A,B)/(norm(A)*norm(B))\n",
    "cosineAC = np.dot(A,C)/(norm(A)*norm(C))\n",
    "\n",
    "print(\"Cosine Similarity:\", cosineAB)\n",
    "print(\"Cosine Similarity:\", cosineAC)"
   ]
  },
  {
   "cell_type": "code",
   "execution_count": 6,
   "metadata": {},
   "outputs": [
    {
     "data": {
      "text/plain": [
       "(0.42264973081037416, 0.7113248654051871, 1.0)"
      ]
     },
     "execution_count": 6,
     "metadata": {},
     "output_type": "execute_result"
    }
   ],
   "source": [
    "# problem 1d\n",
    "\n",
    "A = [1,1,0,1,0,0,1,0]\n",
    "B = [0,1,1,1,0,0,0,0]\n",
    "C = [0,0,0,0,0,1,1,1]\n",
    "\n",
    "distance_AB = cosine(A, B)\n",
    "distance_AC = cosine(A, C)\n",
    "distance_BC = cosine(B, C)\n",
    "\n",
    "distance_AB, distance_AC, distance_BC\n",
    "\n"
   ]
  },
  {
   "cell_type": "code",
   "execution_count": 7,
   "metadata": {},
   "outputs": [
    {
     "data": {
      "text/plain": [
       "(0.6201314118012068, 0.6779694056402347)"
      ]
     },
     "execution_count": 7,
     "metadata": {},
     "output_type": "execute_result"
    }
   ],
   "source": [
    "A = [4,0,0,5,1,0,0]\n",
    "B = [5,5,4,0,0,0,0]\n",
    "C = [0,0,0,2,4,5,0]\n",
    "\n",
    "distance_AB = cosine(A, B)\n",
    "distance_AC = cosine(A, C)\n",
    "\n",
    "distance_AB, distance_AC"
   ]
  },
  {
   "cell_type": "code",
   "execution_count": 8,
   "metadata": {},
   "outputs": [
    {
     "data": {
      "text/plain": [
       "16"
      ]
     },
     "execution_count": 8,
     "metadata": {},
     "output_type": "execute_result"
    }
   ],
   "source": [
    "from itertools import combinations\n",
    "\n",
    "# Graph G edges\n",
    "edges_G = [(\"A\", \"B\"), (\"A\", \"C\"), (\"B\", \"C\"), (\"B\", \"D\"), (\"D\", \"E\"), (\"D\", \"F\"), (\"D\", \"G\"), (\"E\", \"F\"), (\"F\", \"G\")]\n",
    "\n",
    "# Calculate degrees of each node in G\n",
    "degree_dict = {}\n",
    "for edge in edges_G:\n",
    "    for node in edge:\n",
    "        if node in degree_dict:\n",
    "            degree_dict[node] += 1\n",
    "        else:\n",
    "            degree_dict[node] = 1\n",
    "\n",
    "# Calculate the number of edges in G' using the formula\n",
    "num_edges_G_prime = sum(len(list(combinations(range(degree), 2))) for degree in degree_dict.values())\n",
    "num_edges_G_prime\n"
   ]
  },
  {
   "cell_type": "code",
   "execution_count": 17,
   "metadata": {},
   "outputs": [
    {
     "data": {
      "text/plain": [
       "{('a', 'b'): 5.0,\n",
       " ('a', 'c'): 1.0,\n",
       " ('b', 'c'): 5.0,\n",
       " ('b', 'd'): 12.0,\n",
       " ('d', 'e'): 4.5,\n",
       " ('d', 'g'): 4.5,\n",
       " ('d', 'f'): 4.0,\n",
       " ('e', 'f'): 1.5,\n",
       " ('f', 'g'): 1.5}"
      ]
     },
     "execution_count": 17,
     "metadata": {},
     "output_type": "execute_result"
    }
   ],
   "source": [
    "import networkx as nx\n",
    "\n",
    "G = nx.Graph()\n",
    "\n",
    "nodes = ['a','b','c','d','e','f','g']\n",
    "edges = [('a','b'),\n",
    "         ('a','c'),\n",
    "         ('b','c'),\n",
    "         ('b','d'),\n",
    "         ('d','e'),\n",
    "         ('e','f'),\n",
    "         ('f','g'),\n",
    "         ('g','d'),\n",
    "         ('d','f')]\n",
    "\n",
    "G.add_nodes_from(nodes)\n",
    "G.add_edges_from(edges)\n",
    "\n",
    "G.edges()\n",
    "\n",
    "betweeness = nx.edge_betweenness_centrality(G, normalized=False)\n",
    "betweeness\n",
    "\n"
   ]
  },
  {
   "cell_type": "code",
   "execution_count": 4,
   "metadata": {},
   "outputs": [
    {
     "data": {
      "text/plain": [
       "{('a', 'b'): 5.0,\n",
       " ('b', 'c'): 4.333333333333333,\n",
       " ('b', 'e'): 4.333333333333333,\n",
       " ('c', 'd'): 2.833333333333333,\n",
       " ('c', 'f'): 2.833333333333333,\n",
       " ('d', 'e'): 2.833333333333333,\n",
       " ('e', 'f'): 2.833333333333333}"
      ]
     },
     "execution_count": 4,
     "metadata": {},
     "output_type": "execute_result"
    }
   ],
   "source": [
    "import networkx as nx\n",
    "\n",
    "G = nx.Graph()\n",
    "\n",
    "nodes = ['a','b','c','d','e','f']\n",
    "edges = [('a','b'),\n",
    "         ('b','c'),\n",
    "         ('c','d'),\n",
    "         ('d','e'),\n",
    "         ('e','f'),\n",
    "         ('b','e'),\n",
    "         ('c','f')]\n",
    "\n",
    "G.add_nodes_from(nodes)\n",
    "G.add_edges_from(edges)\n",
    "\n",
    "G.edges()\n",
    "\n",
    "betweeness = nx.edge_betweenness_centrality(G, normalized=False)\n",
    "betweeness"
   ]
  },
  {
   "cell_type": "code",
   "execution_count": 9,
   "metadata": {},
   "outputs": [
    {
     "name": "stdout",
     "output_type": "stream",
     "text": [
      "[2, 3, 4]\n",
      "[2, 3, 4]\n",
      "[2, 3, 4]\n",
      "1\n",
      "1\n",
      "1\n",
      "2\n",
      "3\n"
     ]
    }
   ],
   "source": [
    "def fibs_to(n):\n",
    "    fibs = [0,1]\n",
    "    for i in range(2, n+1):\n",
    "        print(list(range(2,n+1)))\n",
    "        fibs.append(fibs[-1] + fibs[-2])\n",
    "    return fibs \n",
    "\n",
    "fibs_to(4)\n",
    "\n",
    "\n",
    "def fib(n):\n",
    "    v1, v2, v3 = 1, 1, 0    # initialise a matrix [[1,1],[1,0]]\n",
    "    for rec in bin(n)[3:]:  # perform fast exponentiation of the matrix (quickly raise it to the nth power)\n",
    "        calc = v2*v2\n",
    "        v1, v2, v3 = v1*v1+calc, (v1+v3)*v2, calc+v3*v3\n",
    "        if rec=='1':    v1, v2, v3 = v1+v2, v1, v2\n",
    "    return v2\n",
    "\n",
    "for i in range(5):\n",
    "    print(fib(i))"
   ]
  },
  {
   "cell_type": "code",
   "execution_count": 12,
   "metadata": {},
   "outputs": [
    {
     "name": "stdout",
     "output_type": "stream",
     "text": [
      "The new list is [[3, 3], [5, 2], [9, 4], [10, 1]]\n"
     ]
    }
   ],
   "source": [
    "a_list = [[5, 2], [9, 4], [3, 3], [10,1]]\n",
    "a_new_list = sorted(a_list, key=lambda x: x[0])\n",
    "print(f\"The new list is {a_new_list}\")"
   ]
  },
  {
   "cell_type": "code",
   "execution_count": 20,
   "metadata": {},
   "outputs": [
    {
     "data": {
      "text/plain": [
       "{('a', 'b'): 4.0,\n",
       " ('a', 'c'): 4.0,\n",
       " ('b', 'c'): 8.0,\n",
       " ('b', 'h'): 11.0,\n",
       " ('c', 'd'): 11.0,\n",
       " ('d', 'e'): 8.0,\n",
       " ('d', 'f'): 4.0,\n",
       " ('e', 'g'): 11.0,\n",
       " ('e', 'f'): 4.0,\n",
       " ('g', 'h'): 8.0,\n",
       " ('g', 'i'): 4.0,\n",
       " ('h', 'i'): 4.0}"
      ]
     },
     "execution_count": 20,
     "metadata": {},
     "output_type": "execute_result"
    }
   ],
   "source": [
    "# Redefining the custom function to calculate edge betweenness for the entire graph\n",
    "\n",
    "def shortest_path_betweenness_corrected(G, start_node):\n",
    "    # Find all shortest paths from the start node to all other nodes\n",
    "    shortest_paths = {end: list(nx.all_shortest_paths(G, start_node, end)) \n",
    "                      for end in G.nodes if end != start_node}\n",
    "\n",
    "    # Initialize edge betweenness\n",
    "    edge_betweenness = {edge: 0 for edge in G.edges}\n",
    "\n",
    "    # Count the number of shortest paths passing through each edge\n",
    "    for paths in shortest_paths.values():\n",
    "        for path in paths:\n",
    "            for i in range(len(path) - 1):\n",
    "                # Ensure the edge is in the right direction\n",
    "                edge = (path[i], path[i + 1]) if (path[i], path[i + 1]) in edge_betweenness else (path[i + 1], path[i])\n",
    "                edge_betweenness[edge] += 1\n",
    "\n",
    "    return edge_betweenness\n",
    "\n",
    "# Function to calculate edge betweenness for the entire graph using the custom function\n",
    "def edge_betweenness_for_graph_custom(G):\n",
    "    # Initialize edge betweenness\n",
    "    total_edge_betweenness = {edge: 0 for edge in G.edges}\n",
    "\n",
    "    # Calculate betweenness for each node and add it to the total\n",
    "    for node in G.nodes:\n",
    "        node_betweenness = shortest_path_betweenness_corrected(G, node)\n",
    "        for edge, count in node_betweenness.items():\n",
    "            total_edge_betweenness[edge] += count\n",
    "\n",
    "    # Since the graph is undirected, each edge is counted twice, so we need to halve the counts\n",
    "    for edge in total_edge_betweenness:\n",
    "        total_edge_betweenness[edge] /= 2\n",
    "\n",
    "    return total_edge_betweenness\n",
    "\n",
    "# Recreating the graph and calculating edge betweenness using the custom function\n",
    "\n",
    "\n",
    "total_edge_betweenness_custom = edge_betweenness_for_graph_custom(G)\n",
    "\n",
    "total_edge_betweenness_custom\n",
    "\n"
   ]
  },
  {
   "cell_type": "code",
   "execution_count": 12,
   "metadata": {},
   "outputs": [
    {
     "data": {
      "text/plain": [
       "'3.2.1'"
      ]
     },
     "execution_count": 12,
     "metadata": {},
     "output_type": "execute_result"
    }
   ],
   "source": [
    "# shortest_paths = {end: list(nx.all_shortest_paths(G1, 'a', end)) \n",
    "#                       for end in G1.nodes if end != 'a'}\n",
    "\n",
    "# shortest_path\n",
    "nx.__version__\n"
   ]
  }
 ],
 "metadata": {
  "kernelspec": {
   "display_name": "Python 3",
   "language": "python",
   "name": "python3"
  },
  "language_info": {
   "codemirror_mode": {
    "name": "ipython",
    "version": 3
   },
   "file_extension": ".py",
   "mimetype": "text/x-python",
   "name": "python",
   "nbconvert_exporter": "python",
   "pygments_lexer": "ipython3",
   "version": "3.11.1"
  }
 },
 "nbformat": 4,
 "nbformat_minor": 2
}
