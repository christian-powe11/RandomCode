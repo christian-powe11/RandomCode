{
 "cells": [
  {
   "cell_type": "markdown",
   "metadata": {},
   "source": [
    "# Numpy Lab\n",
    "element wise computation \\\n",
    "row major "
   ]
  },
  {
   "cell_type": "code",
   "execution_count": null,
   "metadata": {},
   "outputs": [],
   "source": [
    "import numpy as np\n",
    " \n",
    "a = [1,2,3]\n",
    "b = np.array([1,2,3])\n",
    "print(a*5)\n",
    "print(5*b)"
   ]
  },
  {
   "cell_type": "markdown",
   "metadata": {},
   "source": [
    "#  1. insert the correct code for creating a numpy array\n"
   ]
  },
  {
   "cell_type": "code",
   "execution_count": null,
   "metadata": {},
   "outputs": [],
   "source": [
    "a = ... # use np\n",
    "print(a) # [1 2 3 4 5]"
   ]
  },
  {
   "cell_type": "markdown",
   "metadata": {},
   "source": [
    "#  2. consider this function:\n"
   ]
  },
  {
   "cell_type": "code",
   "execution_count": null,
   "metadata": {},
   "outputs": [],
   "source": [
    "def what(n):\n",
    "  a = np.array([1, 2, 3, 4], ndmin=n)\n",
    "  print(a.ndim)\n",
    "  return a\n",
    "\n",
    "#     what is the difference between what(1), what(2) and what(3)\n",
    "\n",
    "print(what(1)) # what do these print and why?\n",
    "print(what(2))\n",
    "print(what(3))"
   ]
  },
  {
   "cell_type": "markdown",
   "metadata": {},
   "source": [
    "#  3. insert the correct argument for creating a numpy array with 2 dimensions\n"
   ]
  },
  {
   "cell_type": "code",
   "execution_count": null,
   "metadata": {},
   "outputs": [],
   "source": [
    "a = np.array([1, 2, 3, 4], ... )\n",
    "print(a) # should print [[1 2 3 4]]"
   ]
  },
  {
   "cell_type": "markdown",
   "metadata": {},
   "source": [
    "#  4. insert the correct syntax for checking the number of dimensions of a numpy array\n"
   ]
  },
  {
   "cell_type": "code",
   "execution_count": null,
   "metadata": {},
   "outputs": [],
   "source": [
    "a = np.array([1, 2, 3, 4])\n",
    "print( ... ) # should print 1 (must refer to a)\n",
    "\n",
    "b = np.array([[1, 2], [3, 4]])\n",
    "print( ... ) # should print 2 (must refer to b)\n"
   ]
  },
  {
   "cell_type": "markdown",
   "metadata": {},
   "source": [
    "#  5. insert the correct syntax for printing the first item in the array:\n"
   ]
  },
  {
   "cell_type": "code",
   "execution_count": null,
   "metadata": {},
   "outputs": [],
   "source": [
    "a = np.array([1, 2, 3, 4])\n",
    "print( ... ) # should print 1 must use a"
   ]
  },
  {
   "cell_type": "markdown",
   "metadata": {},
   "source": [
    "#  6. insert the correct syntax for printing the number 50 from the array\n"
   ]
  },
  {
   "cell_type": "code",
   "execution_count": null,
   "metadata": {},
   "outputs": [],
   "source": [
    "a = np.array([10, 20, 30, 40, 50])\n",
    "print( ... ) # should print 50 must use a"
   ]
  },
  {
   "cell_type": "markdown",
   "metadata": {},
   "source": [
    "#  7. insert the correct syntax for printing the number 50 from the array\n"
   ]
  },
  {
   "cell_type": "code",
   "execution_count": null,
   "metadata": {},
   "outputs": [],
   "source": [
    "a = np.array([[10, 20, 30, 40], [50, 60, 70, 80]])\n",
    "print( ... ) # should print 50 must use a\n",
    "print( ... ) # should print 50 must using a second way \n",
    "\n"
   ]
  },
  {
   "cell_type": "markdown",
   "metadata": {},
   "source": [
    "#  8. use negative indexing to print the last item in the array\n"
   ]
  },
  {
   "cell_type": "code",
   "execution_count": null,
   "metadata": {},
   "outputs": [],
   "source": [
    "a = np.array([10, 20, 30, 40, 50])\n",
    "print( ... ) # should print 50 must use a"
   ]
  },
  {
   "cell_type": "markdown",
   "metadata": {},
   "source": [
    "#  9. slice out everything from the second item to (not including) the fifth item\n"
   ]
  },
  {
   "cell_type": "code",
   "execution_count": null,
   "metadata": {},
   "outputs": [],
   "source": [
    "a = np.array([10, 15, 20, 25, 30, 35, 40])\n",
    "print( ... ) # should print [15 20 25] must use a"
   ]
  },
  {
   "cell_type": "markdown",
   "metadata": {},
   "source": [
    "# 10.slice out everything from the third item to (not including) the fifth item\n"
   ]
  },
  {
   "cell_type": "code",
   "execution_count": null,
   "metadata": {},
   "outputs": [],
   "source": [
    "a = np.array([10, 15, 20, 25, 30, 35, 40])\n",
    "print( ... ) # should print [20 25] must use a"
   ]
  },
  {
   "cell_type": "markdown",
   "metadata": {},
   "source": [
    "# 11. slice out every other item from the second item to (not including) the fifth item\n"
   ]
  },
  {
   "cell_type": "code",
   "execution_count": null,
   "metadata": {},
   "outputs": [],
   "source": [
    "a = np.array([10, 15, 20, 25, 30, 35, 40])\n",
    "print( ... ) # should print [15 25] must use a"
   ]
  },
  {
   "cell_type": "markdown",
   "metadata": {},
   "source": [
    "# 12. slice out every other item from the entire array\n"
   ]
  },
  {
   "cell_type": "code",
   "execution_count": null,
   "metadata": {},
   "outputs": [],
   "source": [
    "a = np.array([10, 15, 20, 25, 30, 35, 40])\n",
    "print( ... ) # should print [10 20 30 40] must use a"
   ]
  },
  {
   "cell_type": "markdown",
   "metadata": {},
   "source": [
    "# 13. insert correct syntax to print the datatype of an array\n"
   ]
  },
  {
   "cell_type": "code",
   "execution_count": null,
   "metadata": {},
   "outputs": [],
   "source": [
    "a = np.array([1, 2, 3])\n",
    "print( ... ) # should print something indicating this is an array of integers"
   ]
  },
  {
   "cell_type": "markdown",
   "metadata": {},
   "source": [
    "# 14. insert the correct argument to specify that array should be of type STRING\n",
    "\n"
   ]
  },
  {
   "cell_type": "code",
   "execution_count": null,
   "metadata": {},
   "outputs": [],
   "source": [
    "a = np.array([1, 2, 3, 4], dtype= ... )\n",
    "\n",
    "print(a.dtype)\n",
    "print(a[0] + a[1])\n",
    "a = np.array([5, 1, -1, 3], dtype='S')\n",
    "b = a.astype('i') # what happens here? \n",
    "print(b[0] + b[1] + b[3]) \n",
    "print(a[0] + a[1] + a[3])"
   ]
  },
  {
   "cell_type": "markdown",
   "metadata": {},
   "source": [
    "# 15. insert correct method to change data type to integer\n"
   ]
  },
  {
   "cell_type": "code",
   "execution_count": null,
   "metadata": {},
   "outputs": [],
   "source": [
    "a = np.array([1.1, 2.1, 3.1])\n",
    "b = a.astype( ... )\n",
    "print(b) # should print [1 2 3] now "
   ]
  },
  {
   "cell_type": "markdown",
   "metadata": {},
   "source": [
    "# 16. use the correct method to make a copy of the array\n"
   ]
  },
  {
   "cell_type": "code",
   "execution_count": null,
   "metadata": {},
   "outputs": [],
   "source": [
    "a = np.array([1, 2, 3, 4, 5])\n",
    "x = ... # must use a to make a copy of it \n",
    "\n",
    "#     then predict the effect of the following expressions\n",
    "\n",
    "\n",
    "x[0] = -5\n",
    "print(a) # does a see the change? \n",
    "b = a\n",
    "b[0] = -25\n",
    "print(a) # does a see the change?"
   ]
  },
  {
   "cell_type": "markdown",
   "metadata": {},
   "source": [
    "# 17. use the correct method to make a view of this array:\n"
   ]
  },
  {
   "cell_type": "code",
   "execution_count": null,
   "metadata": {},
   "outputs": [],
   "source": [
    "a = np.array([1, 2, 3, 4, 5])\n",
    "d = ... \n",
    "\n",
    "#     then predict the effect of these expressions:\n",
    "\n",
    "print(a.base)\n",
    "print(d.base) # why is this different from all the others?\n",
    "b = a\n",
    "print(b.base)\n",
    "c = a.copy()\n",
    "print(c.base)"
   ]
  },
  {
   "cell_type": "markdown",
   "metadata": {},
   "source": [
    "# 18.predict (and explain) the outcome of these expressions\n"
   ]
  },
  {
   "cell_type": "code",
   "execution_count": 42,
   "metadata": {},
   "outputs": [
    {
     "name": "stdout",
     "output_type": "stream",
     "text": [
      "(4,)\n",
      "[1 2 3 4]\n",
      "[1 2 3 4]\n",
      "[1 2 3 4]\n"
     ]
    }
   ],
   "source": [
    "a = np.array([1, 2, 3, 4])\n",
    "print(a.shape)\n",
    "a.reshape(1, 4)\n",
    "print(a)\n",
    "a.reshape(2, 2)\n",
    "print(a)\n",
    "a.reshape(4, 1)\n",
    "print(a)"
   ]
  },
  {
   "cell_type": "markdown",
   "metadata": {},
   "source": [
    "# 19. use the correct numpy method to change the shape of an array from 1-D to 2-D:\n"
   ]
  },
  {
   "cell_type": "code",
   "execution_count": null,
   "metadata": {},
   "outputs": [],
   "source": [
    "a = np.array([1, 2, 3, 4])\n",
    "...#write code here must use a\n",
    "print(a) # must print [[1, 2] [3 4]]\n",
    "\n",
    "#     now predict and explain the output of these expressions \n",
    "\n",
    "a = np.array([1, 2, 3, 4, 5, 6, 7, 8, 9, 10, 11, 12])\n",
    "b = a.reshape(4, 3)\n",
    "print(b)\n",
    "b = a.reshape(3, 4)\n",
    "print(b)\n"
   ]
  },
  {
   "cell_type": "markdown",
   "metadata": {},
   "source": [
    "# 20. use correct numpy method to change shape of an array from 2-D to 1-D\n"
   ]
  },
  {
   "cell_type": "code",
   "execution_count": null,
   "metadata": {},
   "outputs": [],
   "source": [
    "a = np.array([[1, 2, 3, 4, 5, 6], [7, 8, 9, 10, 11, 12]])\n",
    "b = a.reshape( ... ) # complete this statement to result in the output below\n",
    "print(b) # must print [ 1  2  3  4  5  6  7  8  9 10 11 12]"
   ]
  },
  {
   "cell_type": "markdown",
   "metadata": {},
   "source": [
    "# 21. use a correct numpy method to join two arrays into a single array\n"
   ]
  },
  {
   "cell_type": "code",
   "execution_count": null,
   "metadata": {},
   "outputs": [],
   "source": [
    "a = np.array([1, 2, 3])\n",
    "b = np.array([4, 5, 6])\n",
    "#c = ... # use np, a and b somehow \n",
    "#print(c) # must print [1 2 3 4 5 6]\n",
    "\n",
    "\n",
    "#     then predict and explain the outcome of the following expressions\n",
    "\n",
    "a = np.array([[1, 2], [3, 4]])\n",
    "b = np.array([[5, 6], [7, 8]])\n",
    "c = np.concatenate((a, b), axis=1) # what is the effect of the second parameter? \n",
    "print(c) # what gets printed and why? \n",
    "c  = np.stack((a, b), axis = 0) # what does stack do differently (if anything)? \n",
    "print(c) # what gets printed and why? "
   ]
  },
  {
   "cell_type": "markdown",
   "metadata": {},
   "source": [
    "# 22. use correct numpy syntax to find all items with value 4\n"
   ]
  },
  {
   "cell_type": "code",
   "execution_count": null,
   "metadata": {},
   "outputs": [],
   "source": [
    "a = np.array([1, 2, 3, 4, 5, 4, 4])\n",
    "where = ... # complete statement, must use np, a and 4\n",
    "print(where) # must print (array([3, 5, 6]),)"
   ]
  },
  {
   "cell_type": "markdown",
   "metadata": {},
   "source": [
    "# 23. use the correct numpy method to return a sorted array\n"
   ]
  },
  {
   "cell_type": "code",
   "execution_count": null,
   "metadata": {},
   "outputs": [],
   "source": [
    "a = np.array([3, 2, 0, 1])\n",
    "b = ... # complete statement, must use np and a\n",
    "print(b) # must print [0 1 2 3] "
   ]
  },
  {
   "cell_type": "markdown",
   "metadata": {},
   "source": [
    "# 24. solve exercise 3-1 on page 57\n"
   ]
  },
  {
   "cell_type": "code",
   "execution_count": 4,
   "metadata": {},
   "outputs": [
    {
     "name": "stdout",
     "output_type": "stream",
     "text": [
      "[[79.2  75.75 80.34]\n",
      " [66.   54.   52.5 ]\n",
      " [81.   70.4  76.5 ]]\n",
      "81.0\n",
      "[[False False False]\n",
      " [False False False]\n",
      " [ True False False]]\n",
      "[[2 0]]\n"
     ]
    }
   ],
   "source": [
    "# CONTEXT\n",
    "# Let’s tackle this problem by using the salary data of Alice, Bob, and Tim. It\n",
    "# seems like Bob has enjoyed the highest salary in the last three years. But is\n",
    "# he actually bringing home the most money, considering the individual tax\n",
    "# rates of our three friends? Take a look at Listing 3-4.\n",
    "import numpy as np\n",
    "\n",
    "\n",
    "## Data: yearly salary in ($1000) [2017, 2018, 2019]\n",
    "names = ['alice','bob','tim']\n",
    "\n",
    "alice = [99, 101, 103]\n",
    "bob = [110, 108, 105]\n",
    "tim = [90, 88, 85]\n",
    "salaries = np.array([alice, bob, tim])\n",
    "taxation = np.array([[0.2, 0.25, 0.22],\n",
    "                    [0.4, 0.5, 0.5],\n",
    "                    [0.1, 0.2, 0.1]])\n",
    "## One-liner\n",
    "tax_adjusted = salaries-salaries*taxation\n",
    "print(tax_adjusted)\n",
    "\n",
    "max_income  = np.max(tax_adjusted)\n",
    "\n",
    "## Result\n",
    "print(max_income)\n",
    "\n",
    "\n",
    "#PROBLEM\n",
    "\n",
    "# Go back to the taxation example in “Basic Two-Dimensional Array Arithmetic”\n",
    "# on page 42 and pull the name of the person with the highest salary from\n",
    "# the matrix by using this idea of selective Boolean indexing. Problem recap:\n",
    "# How do we find the person with maximum after-tax income in a group of\n",
    "# people, given their yearly salary and tax rates?\n",
    "\n",
    "b = tax_adjusted == max_income\n",
    "print(b)\n",
    "a = np.argwhere(b)\n",
    "\n",
    "print(a)"
   ]
  },
  {
   "cell_type": "markdown",
   "metadata": {},
   "source": [
    "# 25. predict and explain the effect of the following expressions\n"
   ]
  },
  {
   "cell_type": "code",
   "execution_count": null,
   "metadata": {},
   "outputs": [],
   "source": [
    "a = np.array([[[1, 2], [3, 4]], [[5, 6], [7, 8]]])\n",
    "print(np.average(a, axis=0)) # review the meaning of the axis parameter\n",
    "print(np.average(a, axis=1))\n",
    "print(np.average(a, axis=2))"
   ]
  },
  {
   "cell_type": "markdown",
   "metadata": {},
   "source": [
    "# 26. predict and explain the effect of the following expressions\n"
   ]
  },
  {
   "cell_type": "code",
   "execution_count": null,
   "metadata": {},
   "outputs": [],
   "source": [
    "a = np.array([[[ 1,  2,  3], [22,  5,  6], [ 7,  8,  9]],\n",
    "              [[11, 12, 10], [ 4, 14, 15], [16, 17, 18]],\n",
    "              [[19, 20, 21], [13, 23, 24], [25, 26, 27]]])\n",
    "\n",
    "b = np.sort(a, axis=0)\n",
    "print(b) # what gets printed and why? \n",
    "c = np.sort(a, axis=1)\n",
    "print(c)\n",
    "d = np.sort(a, axis=2)\n",
    "print(d)"
   ]
  },
  {
   "cell_type": "markdown",
   "metadata": {},
   "source": [
    "# midterm 6 coins"
   ]
  },
  {
   "cell_type": "code",
   "execution_count": null,
   "metadata": {},
   "outputs": [],
   "source": [
    "N = 6\n",
    "M = 100\n",
    "\n",
    "a= np.array([\n",
    "    [.5,.5,0,0,0,0],\n",
    "    [.5,0,.5,0,0,0],\n",
    "    [.5,0,0,.5,0,0],\n",
    "    [.5,0,0,0,.5,0],\n",
    "    [.5,0,0,0,0,.5],\n",
    "    [0 ,0,0,0,0,1]])\n",
    "\n",
    "def create_transition_matrix(N):\n",
    "    pass\n",
    "\n",
    "result = np.linalg.matrix_power(a,M-1)\n",
    "print(result[0][N-1])\n",
    "\n",
    "\n",
    "\n",
    "\n"
   ]
  }
 ],
 "metadata": {
  "kernelspec": {
   "display_name": "Python 3",
   "language": "python",
   "name": "python3"
  },
  "language_info": {
   "codemirror_mode": {
    "name": "ipython",
    "version": 3
   },
   "file_extension": ".py",
   "mimetype": "text/x-python",
   "name": "python",
   "nbconvert_exporter": "python",
   "pygments_lexer": "ipython3",
   "version": "3.11.1"
  }
 },
 "nbformat": 4,
 "nbformat_minor": 2
}
