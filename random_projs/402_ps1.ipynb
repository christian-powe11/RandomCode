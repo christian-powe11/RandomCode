{
 "cells": [
  {
   "cell_type": "markdown",
   "metadata": {},
   "source": [
    "# Question 2"
   ]
  },
  {
   "cell_type": "code",
   "execution_count": 3,
   "metadata": {},
   "outputs": [],
   "source": [
    "q2a = 4+3\n",
    "q2b = 4 + 3\n",
    "q2c = 4/3\n",
    "q2d = 4 * 3\n",
    "q2e = 4 ** 3\n",
    "q4f = 4//3"
   ]
  },
  {
   "cell_type": "markdown",
   "metadata": {},
   "source": [
    "1. addition\n",
    "2. addition (spaces don't matter)\n",
    "3. division\n",
    "4. multiplication \n",
    "5. exponentiation \n",
    "6. integer division "
   ]
  },
  {
   "cell_type": "markdown",
   "metadata": {},
   "source": [
    "# Question 3"
   ]
  },
  {
   "cell_type": "code",
   "execution_count": 4,
   "metadata": {},
   "outputs": [
    {
     "name": "stdout",
     "output_type": "stream",
     "text": [
      "<class 'int'>\n",
      "<class 'float'>\n",
      "<class 'str'>\n",
      "<class 'list'>\n",
      "<class 'list'>\n"
     ]
    }
   ],
   "source": [
    "a = 2 \n",
    "b = 2.0 \n",
    "c = '2.0'\n",
    "d = [2,3]\n",
    "e = [2,\"2\",3.0]\n",
    "\n",
    "print(type(a))\n",
    "print(type(b))\n",
    "print(type(c))\n",
    "print(type(d))\n",
    "print(type(e))"
   ]
  },
  {
   "cell_type": "markdown",
   "metadata": {},
   "source": [
    "# Question 4 "
   ]
  },
  {
   "cell_type": "code",
   "execution_count": 10,
   "metadata": {},
   "outputs": [
    {
     "name": "stdout",
     "output_type": "stream",
     "text": [
      "9\n",
      "10.1\n",
      "3.2\n",
      "[1.1, 4.4, 3.3]\n",
      "[1.1, 4.4, 3.3]\n"
     ]
    }
   ],
   "source": [
    "# a\n",
    "\n",
    "x = 5\n",
    "x = x + 4\n",
    "print(x)\n",
    "\n",
    "# b \n",
    "\n",
    "x = 3.2 \n",
    "k = x \n",
    "x = 10.1\n",
    "print(x)\n",
    "print(k)\n",
    "\n",
    "# c \n",
    "\n",
    "x = [1.1, 2.2, 3.3]\n",
    "k = x \n",
    "x[1] = 4.4\n",
    "\n",
    "print(x)\n",
    "print(k)"
   ]
  },
  {
   "cell_type": "markdown",
   "metadata": {},
   "source": [
    "# Question 5"
   ]
  },
  {
   "cell_type": "code",
   "execution_count": 297,
   "metadata": {},
   "outputs": [
    {
     "name": "stdout",
     "output_type": "stream",
     "text": [
      "12.566370614359172\n",
      "[2, 4, 6]\n",
      "J0a\n"
     ]
    }
   ],
   "source": [
    "import math \n",
    "import string\n",
    "import random \n",
    "\n",
    "def area_of_circle(radius):\n",
    "    return math.pi * radius ** 2 \n",
    "\n",
    "def odd_numbers(list_ints):\n",
    "    output = []\n",
    "    for i in list_ints:\n",
    "        if not (i % 2):\n",
    "            output.append(i)\n",
    "    return output\n",
    "\n",
    "\n",
    "def strong_password_generator(size):  \n",
    "\n",
    "    if not isinstance(size, int):\n",
    "        raise TypeError('Input must be an integer')\n",
    "    if size <3:\n",
    "        raise ValueError('Size must be greater than or equal to 3')\n",
    "    \n",
    "\n",
    "    lower = string.ascii_lowercase\n",
    "    upper = string.ascii_uppercase\n",
    "    digits = string.digits  \n",
    "\n",
    "    base = [random.choice(lower), random.choice(upper), random.choice(digits)]\n",
    "    \n",
    "    for i in range(3, size):\n",
    "        all = lower + upper + digits\n",
    "        next = random.choice(all)\n",
    "        base.append(next) \n",
    "\n",
    "    random.shuffle(base)\n",
    "    final = ''.join(base)\n",
    "\n",
    "    return final\n",
    "\n",
    "\n",
    "\n",
    "\n",
    "print(area_of_circle(2))\n",
    "print(odd_numbers([1,2,3,4,5,6]))\n",
    "print(strong_password_generator(3))\n"
   ]
  },
  {
   "cell_type": "code",
   "execution_count": 138,
   "metadata": {},
   "outputs": [
    {
     "data": {
      "text/plain": [
       "'abcw'"
      ]
     },
     "execution_count": 138,
     "metadata": {},
     "output_type": "execute_result"
    }
   ],
   "source": [
    "# import random \n",
    "\n",
    "# length = 4\n",
    "# password = 'abc'\n",
    "\n",
    "# for i in range(3, length):\n",
    "#     password = password + random.choice(string.ascii_lowercase)\n",
    "\n",
    "# password\n",
    "\n",
    "# # la = ['a','b','c']\n",
    "# # dog = random.choice(la)\n",
    "# # dog\n"
   ]
  }
 ],
 "metadata": {
  "kernelspec": {
   "display_name": "Python 3",
   "language": "python",
   "name": "python3"
  },
  "language_info": {
   "codemirror_mode": {
    "name": "ipython",
    "version": 3
   },
   "file_extension": ".py",
   "mimetype": "text/x-python",
   "name": "python",
   "nbconvert_exporter": "python",
   "pygments_lexer": "ipython3",
   "version": "3.11.1"
  }
 },
 "nbformat": 4,
 "nbformat_minor": 2
}
