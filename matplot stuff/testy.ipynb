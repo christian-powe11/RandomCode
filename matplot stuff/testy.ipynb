{
 "cells": [
  {
   "cell_type": "code",
   "execution_count": 2,
   "metadata": {},
   "outputs": [
    {
     "data": {
      "text/plain": [
       "0.192"
      ]
     },
     "execution_count": 2,
     "metadata": {},
     "output_type": "execute_result"
    }
   ],
   "source": [
    "# Given data\n",
    "false_positive_rate = 0.16  # Probability that a truth-teller is identified as a liar\n",
    "false_negative_rate = 0.20  # Probability that a liar is identified as a truth-teller\n",
    "probability_truth_teller = 0.95  # Probability that an applicant is a truth-teller\n",
    "probability_liar = 0.05  # Probability that an applicant is a liar\n",
    "\n",
    "# Bayes' Theorem calculation\n",
    "# P(Liar|Test says Liar) = P(Test says Liar|Liar) * P(Liar) / P(Test says Liar)\n",
    "# Where P(Test says Liar) = P(Test says Liar|Liar) * P(Liar) + P(Test says Liar|Truth-teller) * P(Truth-teller)\n",
    "\n",
    "# Probability that the test says the applicant is a liar (either correctly or as a false positive)\n",
    "probability_test_says_liar = ((1 - false_negative_rate) * probability_liar) + (false_positive_rate * probability_truth_teller)\n",
    "\n",
    "# Probability that the applicant is actually a liar given that the test says they are\n",
    "probability_liar_given_test_says_liar = ((1 - false_negative_rate) * probability_liar) / probability_test_says_liar\n",
    "\n",
    "# probability_liar_given_test_says_liar\n",
    "\n",
    "probability_test_says_liar\n"
   ]
  }
 ],
 "metadata": {
  "kernelspec": {
   "display_name": "Python 3",
   "language": "python",
   "name": "python3"
  },
  "language_info": {
   "codemirror_mode": {
    "name": "ipython",
    "version": 3
   },
   "file_extension": ".py",
   "mimetype": "text/x-python",
   "name": "python",
   "nbconvert_exporter": "python",
   "pygments_lexer": "ipython3",
   "version": "3.11.1"
  }
 },
 "nbformat": 4,
 "nbformat_minor": 2
}
